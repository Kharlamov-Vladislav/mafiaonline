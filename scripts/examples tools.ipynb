{
 "cells": [
  {
   "cell_type": "code",
   "execution_count": 1,
   "metadata": {},
   "outputs": [],
   "source": [
    "import mafia_api\n",
    "import mafia_tools\n",
    "import pandas as pd\n",
    "import warnings\n",
    "warnings.filterwarnings('ignore')"
   ]
  },
  {
   "cell_type": "code",
   "execution_count": 6,
   "metadata": {},
   "outputs": [],
   "source": [
    "log = mafia_api.get_log(4043327)"
   ]
  },
  {
   "cell_type": "markdown",
   "metadata": {},
   "source": [
    "## Пример парсинга чата"
   ]
  },
  {
   "cell_type": "code",
   "execution_count": 5,
   "metadata": {},
   "outputs": [
    {
     "data": {
      "text/plain": [
       "[['move-city', ('что за бред', 'GrishaPerelman')],\n",
       " ['move-city', ('GrishaPerelman', 'что за бред')],\n",
       " ['move-city', ('Apellierre', 'Вредный')],\n",
       " ['move-city', ('Armenia', 'что за бред')],\n",
       " ['move-city', ('Showstopper', 'что за бред')],\n",
       " ['move-city', ('Вредный', 'что за бред')],\n",
       " ['move-positive', ('GrishaPerelman', 'Вредный')],\n",
       " ['move-maf', ('Apellierre', 'GrishaPerelman')],\n",
       " ['move-maf', ('Showstopper', 'GrishaPerelman')],\n",
       " ['move-city', ('Вредный', 'Apellierre')],\n",
       " ['move-city', ('Showstopper', 'Apellierre')],\n",
       " ['move-city', ('Apellierre', 'Вредный')],\n",
       " ['move-city', ('Armenia', 'Apellierre')],\n",
       " ['move-maf', ('Showstopper', 'Вредный')],\n",
       " ['move-city', ('Armenia', 'МилаЯ')],\n",
       " ['move-city', ('МилаЯ', 'Armenia')],\n",
       " ['move-city', ('Showstopper', 'Armenia')],\n",
       " ['move-maf', ('Showstopper', 'МилаЯ')]]"
      ]
     },
     "execution_count": 5,
     "metadata": {},
     "output_type": "execute_result"
    }
   ],
   "source": [
    "mafia_tools.parse_summary(log)\n",
    "# Возращает список, где nick_1 направил действие ... на nick_2, где действие записано в первой компоненте:\n",
    "# ['move-city'] - голосование на посадку в тюрьму, \n",
    "# ['move-positive, 'move-kom'] - проверка комиссара ночью,\n",
    "# ['move-maf'] - попытка убийства мафией"
   ]
  },
  {
   "cell_type": "code",
   "execution_count": 4,
   "metadata": {},
   "outputs": [
    {
     "data": {
      "text/plain": [
       "[(0, '[Showstopper] to[Apellierre] в Харькове один раз был)'),\n",
       " (5, '[что за бред] урааааааа'),\n",
       " (9, '[что за бред] я мафея'),\n",
       " (11, '[что за бред] мафиозник'),\n",
       " (12, '[Вредный] {dedmoroz}'),\n",
       " (20, '[Showstopper] мирный я'),\n",
       " (22, '[Apellierre] первая новогодняя!! {dedmoroz}'),\n",
       " (30, '[МилаЯ] чч'),\n",
       " (40,\n",
       "  '[Armenia] to[GrishaPerelman] интересно сейчас за каждую партию будут стихи давать или как?'),\n",
       " (60, '[что за бред] за партии стихи дают?')]"
      ]
     },
     "execution_count": 4,
     "metadata": {},
     "output_type": "execute_result"
    }
   ],
   "source": [
    "mafia_tools.parse_chat(chat)[:10]\n",
    "# Возращает список, где первая компонента означает сколько прошло времени относительно первого сообщения в партии\n",
    "# Вторая компонента есть само сообщение"
   ]
  },
  {
   "cell_type": "code",
   "execution_count": null,
   "metadata": {},
   "outputs": [],
   "source": []
  }
 ],
 "metadata": {
  "kernelspec": {
   "display_name": "Python 3",
   "language": "python",
   "name": "python3"
  },
  "language_info": {
   "codemirror_mode": {
    "name": "ipython",
    "version": 3
   },
   "file_extension": ".py",
   "mimetype": "text/x-python",
   "name": "python",
   "nbconvert_exporter": "python",
   "pygments_lexer": "ipython3",
   "version": "3.7.4"
  }
 },
 "nbformat": 4,
 "nbformat_minor": 2
}
