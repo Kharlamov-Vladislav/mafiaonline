{
 "cells": [
  {
   "cell_type": "code",
   "execution_count": 23,
   "metadata": {},
   "outputs": [],
   "source": [
    "import mafia_api\n",
    "import mafia_tools\n",
    "import pandas as pd\n",
    "import warnings\n",
    "warnings.filterwarnings('ignore')"
   ]
  },
  {
   "cell_type": "code",
   "execution_count": 21,
   "metadata": {},
   "outputs": [],
   "source": [
    "log = mafia_api.get_log(3865784)\n",
    "chat = log['chat']"
   ]
  },
  {
   "cell_type": "markdown",
   "metadata": {},
   "source": [
    "## Пример парсинга чата"
   ]
  },
  {
   "cell_type": "code",
   "execution_count": 22,
   "metadata": {},
   "outputs": [
    {
     "data": {
      "text/plain": [
       "[(0, '[МилаЯ] чиж'),\n",
       " (1, '[Фандорин] ну чо псы'),\n",
       " (7, '[Армеец] квантохренотенькакаято маф'),\n",
       " (7, '[OjashiroSama] я мир'),\n",
       " (7, '[Фандорин] погавкаем'),\n",
       " (13, '[Kirerro] молчалив'),\n",
       " (15, '[Kirerro] чиж'),\n",
       " (17, '[Quelendoreli7] Всем привет ^.^'),\n",
       " (24, '[Quelendoreli7] to[Армеец] дрели ...'),\n",
       " (33, '[das_fleisch] ммир')]"
      ]
     },
     "execution_count": 22,
     "metadata": {},
     "output_type": "execute_result"
    }
   ],
   "source": [
    "mafia_tools.parse_chat(chat)[:10]\n",
    "# Возращает список, где первая компонента означает сколько прошло времени относительно первого сообщения в партии\n",
    "# Вторая компонента есть само сообщение"
   ]
  }
 ],
 "metadata": {
  "kernelspec": {
   "display_name": "Python 3",
   "language": "python",
   "name": "python3"
  },
  "language_info": {
   "codemirror_mode": {
    "name": "ipython",
    "version": 3
   },
   "file_extension": ".py",
   "mimetype": "text/x-python",
   "name": "python",
   "nbconvert_exporter": "python",
   "pygments_lexer": "ipython3",
   "version": "3.7.4"
  }
 },
 "nbformat": 4,
 "nbformat_minor": 2
}
